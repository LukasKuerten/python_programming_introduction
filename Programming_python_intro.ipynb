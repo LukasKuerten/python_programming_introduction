{
 "cells": [
  {
   "cell_type": "markdown",
   "metadata": {},
   "source": [
    "This is a very short introduction to python and to programming in general. Created by Lukas Kuerten (lukas.kuerten@uk-cpi.com)\n",
    "\n",
    "This is a jupyter notebook. You can progress through the notebook and execute the code below step by step by clicking the \"play\" button (little triangle) in the top left.\n",
    "\n",
    "Progamming means that we give instructions to the computer, which it then executes. The instructions are written in a language which the computer can \"understand\". Many such languages exist for various purposes and various specializations. Here, we present the python programming language, which is both accessible and versatile. python is a \"high level\" programming language, meaning that the appearance of the code is in some ways similar to English and reasonably intelligible even to someone who is not familiar with the language.\n",
    "\n",
    "We will begin our introduction with the customary first command which is at the beginning of almost any programming course: We will tell the computer to print a greeting statement to the output line:\n"
   ]
  },
  {
   "cell_type": "code",
   "execution_count": 26,
   "metadata": {},
   "outputs": [
    {
     "name": "stdout",
     "output_type": "stream",
     "text": [
      "Hello World\n"
     ]
    }
   ],
   "source": [
    "print('Hello World')"
   ]
  },
  {
   "cell_type": "markdown",
   "metadata": {},
   "source": [
    "We have given a command to the computer (\"print( )\") which is built-in in python. The \"print\" command takes an \"argument\", which is what is enclosed in the parentheses following the command. In this case, the argument of the command is the text which the computer is to print to the output line (\" 'Hello World' \"). We have enclosed this text in quotes to tell the computer that it is actual text, and not the name of another command or variable.\n",
    "\n",
    "Most programming languages, including python, have many rather intuitive basic functionalities. We can, for example, perform mathematical operations:"
   ]
  },
  {
   "cell_type": "code",
   "execution_count": 27,
   "metadata": {},
   "outputs": [
    {
     "data": {
      "text/plain": [
       "2"
      ]
     },
     "execution_count": 27,
     "metadata": {},
     "output_type": "execute_result"
    }
   ],
   "source": [
    "1+1"
   ]
  },
  {
   "cell_type": "markdown",
   "metadata": {},
   "source": [
    "Or ask the computer to evaluate logical expressions:"
   ]
  },
  {
   "cell_type": "code",
   "execution_count": 28,
   "metadata": {},
   "outputs": [
    {
     "data": {
      "text/plain": [
       "False"
      ]
     },
     "execution_count": 28,
     "metadata": {},
     "output_type": "execute_result"
    }
   ],
   "source": [
    "2 > 3"
   ]
  },
  {
   "cell_type": "markdown",
   "metadata": {},
   "source": [
    "In most programs, we will assign values to variables:"
   ]
  },
  {
   "cell_type": "code",
   "execution_count": 29,
   "metadata": {},
   "outputs": [],
   "source": [
    "a = 5"
   ]
  },
  {
   "cell_type": "code",
   "execution_count": 30,
   "metadata": {},
   "outputs": [],
   "source": [
    "b = 6"
   ]
  },
  {
   "cell_type": "markdown",
   "metadata": {},
   "source": [
    "The names and values of these variables are stored in the computer\n",
    "memory and can be accessed by \"calling\" them:\n"
   ]
  },
  {
   "cell_type": "code",
   "execution_count": 31,
   "metadata": {},
   "outputs": [
    {
     "data": {
      "text/plain": [
       "11"
      ]
     },
     "execution_count": 31,
     "metadata": {},
     "output_type": "execute_result"
    }
   ],
   "source": [
    "a + b"
   ]
  },
  {
   "cell_type": "markdown",
   "metadata": {},
   "source": [
    "In this case, the values we assigned to our variables were numbers, but variables can contain any arbitrary information. They can be integers, floating point numbers, names, lists of numbers or words, \"True\" or \"False\" values etc. The computer remembers variables by their names, which have to be unique. If we were to assign a different value to \"a\", the old value would be overwritten. Programming is most often useful when we can use it to automate repetitive tasks. For example, if we wanted to \n",
    "calculate the square of all numbers from 1 through 10, this would be rather boring to do by hand. Instead, we can tell the computer to do it for us. First, we define a new variable \"numbers\", which is a list of all the numbers we want to square:\n"
   ]
  },
  {
   "cell_type": "code",
   "execution_count": 32,
   "metadata": {},
   "outputs": [],
   "source": [
    "numbers = [1,2,3,4,5,6,7,8,9,10]"
   ]
  },
  {
   "cell_type": "markdown",
   "metadata": {},
   "source": [
    "By enclosing these numbers in brackets and separating them by commas, we tell the computer they are a list that belongs together.\n",
    "\n",
    "Next, we tell the computer to compute the squares of all these numbers using a \"loop\" structure, initiated by the keyword for\":"
   ]
  },
  {
   "cell_type": "code",
   "execution_count": 33,
   "metadata": {},
   "outputs": [
    {
     "name": "stdout",
     "output_type": "stream",
     "text": [
      "1\n",
      "4\n",
      "9\n",
      "16\n",
      "25\n",
      "36\n",
      "49\n",
      "64\n",
      "81\n",
      "100\n"
     ]
    }
   ],
   "source": [
    "for i in numbers:\n",
    "    print(i*i)"
   ]
  },
  {
   "cell_type": "markdown",
   "metadata": {},
   "source": [
    "The computer generates a temporary variable \"i\", which runs through all the elments in the list  \"numbers\". For each i, it computes the square and prints it. Note that the print statement is indented. This is python’s way of showing that this line of code is inside the loop and will be executed on each iteration.\n",
    "\n",
    "There are different types of loops, which can be used for different purposes. You can put loops inside other loops and generate structures of arbitrary complexity.\n",
    "\n",
    "Aside from loops, conditional statements are the other important tool to control the flow of a computer program. These statements check for a condition and do something if it is true and something else if it is false. They are initiated by the \"if\" keyword"
   ]
  },
  {
   "cell_type": "code",
   "execution_count": 34,
   "metadata": {},
   "outputs": [
    {
     "name": "stdout",
     "output_type": "stream",
     "text": [
      "small\n"
     ]
    }
   ],
   "source": [
    "if a > 5:\n",
    "    print('large')\n",
    "else: \n",
    "    print('small')"
   ]
  },
  {
   "cell_type": "markdown",
   "metadata": {},
   "source": [
    "Above, we defined a to be 5, so it is not larger than 5 and the second statement is executed. Note that again, the code to be executed is indented to indicate that it is subject to the \"if\" condition. If we were to run the same bit of code on the variable b, which we defined to equal 6, the result would be different:"
   ]
  },
  {
   "cell_type": "code",
   "execution_count": 35,
   "metadata": {},
   "outputs": [
    {
     "name": "stdout",
     "output_type": "stream",
     "text": [
      "large\n"
     ]
    }
   ],
   "source": [
    "if b > 5:\n",
    "    print('large')\n",
    "else:\n",
    "    print('small')"
   ]
  },
  {
   "cell_type": "markdown",
   "metadata": {},
   "source": [
    "Most programs are built around \"functions\". Similar to mathematical functions, these take one or more input arguments and return one or more results. The \"print()\" command used above is an example for a simple, built-in function. But what makes programming so useful is that we can very easily define our own functions, which can perform whatever action we want them to:"
   ]
  },
  {
   "cell_type": "code",
   "execution_count": 36,
   "metadata": {},
   "outputs": [],
   "source": [
    "def square(x):\n",
    "    return x*x"
   ]
  },
  {
   "cell_type": "markdown",
   "metadata": {},
   "source": [
    "The keyword \"def\" tells the computer to expect the definition of a new function. Here, we have defined a function called \"square\", which takes an imput x and returns the square of x as an output. Again, the return statement is indented to tell the computer it’s part of the function. Let’s try it out:"
   ]
  },
  {
   "cell_type": "code",
   "execution_count": 37,
   "metadata": {},
   "outputs": [
    {
     "data": {
      "text/plain": [
       "4"
      ]
     },
     "execution_count": 37,
     "metadata": {},
     "output_type": "execute_result"
    }
   ],
   "source": [
    "square(2)"
   ]
  },
  {
   "cell_type": "markdown",
   "metadata": {},
   "source": [
    "Once the function is defined, we can re-use it as many times we want with any arguments we want to give to it. We can also use the variables we defined above as arguments:"
   ]
  },
  {
   "cell_type": "code",
   "execution_count": 38,
   "metadata": {},
   "outputs": [
    {
     "data": {
      "text/plain": [
       "25"
      ]
     },
     "execution_count": 38,
     "metadata": {},
     "output_type": "execute_result"
    }
   ],
   "source": [
    "square(a)"
   ]
  },
  {
   "cell_type": "markdown",
   "metadata": {},
   "source": [
    "However, python functions are much more versatile than their mathematical equivalents. We can define them to do anything we want, not just mathematical operations:"
   ]
  },
  {
   "cell_type": "code",
   "execution_count": 39,
   "metadata": {},
   "outputs": [],
   "source": [
    "def silly_function(name):\n",
    "    if (name == 'Luke') or (name == 'Han') or (name =='Leia'):\n",
    "        print('good')\n",
    "    elif (name == 'Vader') or (name == 'Palpatine'):\n",
    "        print('evil')\n",
    "    else:\n",
    "        print('I do not know you')"
   ]
  },
  {
   "cell_type": "markdown",
   "metadata": {},
   "source": [
    "Note that in python, a simple equal sign \"=\" is used to assign values, as we did with the variables a and b, for example. The double equal sign \"==\" is used to compare two objects and will return either True or False.\n",
    "\n",
    "Now let’s try feeding some names to this function:"
   ]
  },
  {
   "cell_type": "code",
   "execution_count": 40,
   "metadata": {},
   "outputs": [
    {
     "name": "stdout",
     "output_type": "stream",
     "text": [
      "good\n"
     ]
    }
   ],
   "source": [
    "silly_function('Luke')"
   ]
  },
  {
   "cell_type": "code",
   "execution_count": 41,
   "metadata": {},
   "outputs": [
    {
     "name": "stdout",
     "output_type": "stream",
     "text": [
      "evil\n"
     ]
    }
   ],
   "source": [
    "silly_function('Vader')"
   ]
  },
  {
   "cell_type": "code",
   "execution_count": 42,
   "metadata": {},
   "outputs": [
    {
     "name": "stdout",
     "output_type": "stream",
     "text": [
      "I do not know you\n"
     ]
    }
   ],
   "source": [
    "silly_function('Picard')"
   ]
  },
  {
   "cell_type": "markdown",
   "metadata": {},
   "source": [
    "Note that the computer is stupid. It will only understand what you write, not what you mean:"
   ]
  },
  {
   "cell_type": "code",
   "execution_count": 43,
   "metadata": {},
   "outputs": [
    {
     "name": "stdout",
     "output_type": "stream",
     "text": [
      "I do not know you\n"
     ]
    }
   ],
   "source": [
    "silly_function('Han Solo')"
   ]
  },
  {
   "cell_type": "markdown",
   "metadata": {},
   "source": [
    "Above, we instructed the computer to recognize \"Han\". It will only understand this word, no other spelling or variation of it. Even though with \"Han Solo\", we obviously mean exactly the same person, the computer does not understand anything that’s not explicitly defined.\n",
    "\n",
    "The same will happen if you mis-type the name of a variable or a function or forget an indent: The program will not run. Or it will run in a way you didn’t expect it to, which is often worse. This is one of the fundamental differences between a programming language and a real language: There is no margin for error. This means that most of the time you will spend at least as much time hunting for errors in your code (a process called \"debugging\") as you spend writing new lines. But this\n",
    "is true also for experienced programmers, so don’t despair if you code something and the first thing it does is throw an error.\n",
    "\n",
    "Finally, one of the great advantages of python (and many other languages) is that many of the problems you are trying to solve with your code have already been solved by someone else. There are many \"modules\" available for python for any kind of task from handling genetic sequence data to graphical interfaces. You can load these modules with the \"import\" command (works also after Brexit). Here, we will load the numpy and matplotlib.pyplot packages, which are for numerical data handling and plotting, respectively:"
   ]
  },
  {
   "cell_type": "code",
   "execution_count": 44,
   "metadata": {},
   "outputs": [],
   "source": [
    "import numpy\n",
    "import matplotlib.pyplot"
   ]
  },
  {
   "cell_type": "markdown",
   "metadata": {},
   "source": [
    "We will now use the functionalities of these packages to plot a sine wave from 0 to 2*pi:"
   ]
  },
  {
   "cell_type": "code",
   "execution_count": 45,
   "metadata": {},
   "outputs": [
    {
     "data": {
      "text/plain": [
       "[<matplotlib.lines.Line2D at 0x20fb4929eb0>]"
      ]
     },
     "execution_count": 45,
     "metadata": {},
     "output_type": "execute_result"
    },
    {
     "data": {
      "image/png": "[encoded data removed]",
      "text/plain": [
       "<Figure size 432x288 with 1 Axes>"
      ]
     },
     "metadata": {
      "needs_background": "light"
     },
     "output_type": "display_data"
    }
   ],
   "source": [
    "x = numpy.arange(0,2*numpy.pi,0.2)\n",
    "y = numpy.sin(x)\n",
    "matplotlib.pyplot.plot(x,y)"
   ]
  },
  {
   "cell_type": "markdown",
   "metadata": {},
   "source": [
    "Let’s go through the above code. Throughout, we use the \"dot\" notation common to python to access elements of the modules which we just imported.\n",
    "\n",
    "In the first line, we define the x-data for our plot. We use dot notation to access the \"arange\" function of the \"numpy\" package. In this case, the function generates a vector of numbers from zero to 2 pi in steps of 0.2. Note that also the value of pi is taken from the numpy module via dot notation.\n",
    "\n",
    "In the second line, we define the y-data for the plot by calling the sin function of the numpy module, using the x-data we just defined as input argument. This generates a vector of the sine of all entries of x.\n",
    "\n",
    "Finally, in the third line we call the plot function of the matplotlib module with x and y as arguments, which generates the output plot.\n",
    "\n",
    "Thanks to the modules we just imported, we don’t need to worry about the technicalities of calculating the sine wave or setting up the plot. Of course we could have programmed the above code from scratch in basic python, but it would have taken a long time and the resulting code would very likely be less efficient. You will find that there are many useful modules for many different aspects of programming in python.\n",
    "\n",
    "And that's it! There's a wealth of (mostly free and open) tutorials on python and many other languages available online. So of you want to learn more, it's just a google away!"
   ]
  }
 ],
 "metadata": {
  "kernelspec": {
   "display_name": "Python 3",
   "language": "python",
   "name": "python3"
  },
  "language_info": {
   "codemirror_mode": {
    "name": "ipython",
    "version": 3
   },
   "file_extension": ".py",
   "mimetype": "text/x-python",
   "name": "python",
   "nbconvert_exporter": "python",
   "pygments_lexer": "ipython3",
   "version": "3.8.5"
  }
 },
 "nbformat": 4,
 "nbformat_minor": 4
}
